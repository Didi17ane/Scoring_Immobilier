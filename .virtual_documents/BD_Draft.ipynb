from graphviz import Digraph


# Création du diagramme ERD complet basé sur le dictionnaire de données
dot = Digraph(comment="ERD Complet - Dictionnaire de données")
dot.attr(rankdir='TB', fontsize='10', nodesep='1.5', ranksep='2')

# Fonction pour ajouter une entité (table)
def add_entity(name, attributes):
    label = f"<<TABLE BORDER='1' CELLBORDER='1' CELLSPACING='0'>"
    label += f"<TR><TD BGCOLOR='lightblue'><B>{name}</B></TD></TR>"
    for attr in attributes:
        label += f"<TR><TD ALIGN='LEFT'>{attr}</TD></TR>"
    label += "</TABLE>>"
    dot.node(name, label=label, shape='plaintext')



# ===================== ENTITÉS ===================== #

# Table Candidat
add_entity("Candidat", [
    "PK id_candidat UUID",
    "nom VARCHAR 100",
    "prenom VARCHAR 100", 
    "email VARCHAR 150 UNIQUE",
    "telephone VARCHAR 20 UNIQUE",
    "date_naissance DATE",
    "whatsapp VARCHAR 20 UNIQUE",
    "type_candidat VARCHAR",
    "nom_societe VARCHAR",
    "raison_sociale ENUM",
    "numero_fixe VARCHAR",
    "revenu_mensuel DOUBLE &gt;= 0",
    "fonction VARCHAR",
    "domaine_activite ENUM",
    "type_contrat VARCHAR",
    "charge_mensuelle DOUBLE &gt;= 0",
    "dette DOUBLE &gt;= 0",
    "anciennete_professionnelle INT 0-60",
    "nombre_loge_passe INT &gt;= 0",
    "nbr_pers_aCharge INT &gt;= 0"
])

# Table User
add_entity("User", [
    "PK user_id UUID",
    "nom VARCHAR 100",
    "prenom VARCHAR 100",
    "email VARCHAR 150 UNIQUE",
    "telephone VARCHAR 20 UNIQUE", 
    "date_naissance DATE",
    "whatsapp VARCHAR 20 UNIQUE",
    "type_user VARCHAR",
    "nom_societe VARCHAR",
    "raison_sociale ENUM",
    "numero_fixe VARCHAR",
    "revenu_mensuel DOUBLE &gt;= 0",
    "fonction VARCHAR",
    "domaine_activite ENUM",
    "type_contrat VARCHAR",
    "charge_mensuelle DOUBLE &gt;= 0",
    "dette DOUBLE &gt;= 0",
    "anciennete_professionnelle INT 0-60",
    "nombre_loge_passe INT &gt;= 0",
    "nbr_pers_aCharge INT &gt;= 0"
])

# Table Candidature
add_entity("Candidature", [
    "PK id_candidature UUID",
    "FK id_candidat UUID",
    "FK Id_location UUID"
])

# Table Documents
add_entity("Documents", [
    "PK id_document UUID",
    "type_document ENUM",
    "numero_doc VARCHAR",
    "date_exp VARCHAR",
    "doc_path1 VARCHAR",
    "doc_path2 VARCHAR",
    "FK id_user UUID",
    "FK id_candidat UUID"
])

# Table Locataire
add_entity("Locataire", [
    "PK id_locataire UUID",
    "total_location INT &gt;= 1",
    "type_locataire VARCHAR",
    "date_location DATE",
    "FK id_user UUID"
])

# Table Proprietaire
add_entity("Proprietaire", [
    "PK id_proprietaire UUID",
    "FK Id_user UUID"
])

# Table Location
add_entity("Location", [
    "PK location_id UUID",
    "type_location VARCHAR",
    "loyer_mensuel DOUBLE &gt; 0",
    "FK id_proprietaire UUID",
    "FK id_locative UUID"
])

# Table Locative
add_entity("Locative", [
    "PK id_locative UUID",
    "type_locative VARCHAR",
    "surface DECIMAL 8,2 &gt; 0",
    "localisation VARCHAR 255",
    "loyer_mensuel DOUBLE &gt; 0",
    "nbr_location INT &gt;= 1"
])

# Table Contrat
add_entity("Contrat", [
    "PK id_contrat UUID",
    "date_debut DATE",
    "date_fin DATE",
    "montant_loyer DOUBLE &gt;= 0",
    "FK id_locataire UUID",
    "FK id_location UUID"
])

# Table Facture
add_entity("Facture", [
    "PK id_facture UUID",
    "code ALPHANUM",
    "amount DOUBLE",
    "status VARCHAR",
    "tva_amount DECIMAL",
    "total_amount DOUBLE",
    "issue_date DATE",
    "due_date DATE",
    "completed_date DATE",
    "description VARCHAR",
    "fees_included BOOLEAN",
    "FK id_contrat UUID"
])

# Table Paiement
add_entity("Paiement", [
    "PK id_paiement UUID",
    "date_paiement DATE",
    "Montant_paye DOUBLE &gt;= 0",
    "statut BOOLEAN",
    "statut_message VARCHAR",
    "FK id_facture UUID"
])

# Table Retard
add_entity("Retard", [
    "PK id_retard UUID",
    "date_prevue DATE",
    "jours_retard INT",
    "montant_retard INT",
    "FK id_facture UUID"
])

# Table Appréciations
add_entity("Appreciations", [
    "PK id_appreciation UUID",
    "commentaire VARCHAR 255",
    "note INT 1-5",
    "date_appreciation DATE",
    "FK id_proprietaire UUID",
    "FK id_locataire UUID",
    "FK id_location UUID"
])



# ===================== RELATIONS ===================== #

# Relations depuis Candidature
dot.edge("Candidat", "Candidature", label="1..n", color="blue")
dot.edge("Location", "Candidature", label="1..n", color="blue")

# Relations depuis Documents
dot.edge("User", "Documents", label="1..n", color="green")
dot.edge("Candidat", "Documents", label="1..n", color="green")

# Relations depuis Locataire
dot.edge("User", "Locataire", label="1..1", color="red")

# Relations depuis Proprietaire
dot.edge("User", "Proprietaire", label="1..1", color="red")

# Relations depuis Location
dot.edge("Proprietaire", "Location", label="1..n", color="orange")
dot.edge("Locative", "Location", label="1..n", color="orange")

# Relations depuis Contrat
dot.edge("Locataire", "Contrat", label="1..n", color="purple")
dot.edge("Location", "Contrat", label="1..n", color="purple")

# Relations depuis Facture
dot.edge("Contrat", "Facture", label="1..n", color="brown")

# Relations depuis Paiement
dot.edge("Facture", "Paiement", label="1..n", color="pink")

# Relations depuis Retard
dot.edge("Facture", "Retard", label="1..n", color="gray")

# Relations depuis Appreciations
dot.edge("Proprietaire", "Appreciations", label="1..n", color="darkgreen")
dot.edge("Locataire", "Appreciations", label="1..n", color="darkgreen")
dot.edge("Location", "Appreciations", label="1..n", color="darkgreen")



# Configuration finale du graphe
dot.attr('node', fontsize='9')
dot.attr('edge', fontsize='8')


# Affichage
dot



