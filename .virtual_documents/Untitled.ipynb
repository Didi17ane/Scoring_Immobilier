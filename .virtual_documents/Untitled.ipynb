from graphviz import Digraph

# Création du diagramme
dot = Digraph(comment="ERD Tylimmo - Scoring Locatif")
dot.attr(rankdir='LR', fontsize='10', nodesep='1')

# Fonction pour ajouter une entité
def add_entity(name, attributes):
    label = f"<<TABLE BORDER='1' CELLBORDER='1' CELLSPACING='0'>"
    label += f"<TR><TD BGCOLOR='lightblue'><B>{name}</B></TD></TR>"
    for attr in attributes:
        label += f"<TR><TD>{attr}</TD></TR>"
    label += "</TABLE>>"
    dot.node(name, label=label, shape='plaintext')

# Entités
add_entity("User",[
    "PK id_user",
    "nom", "prenom",
    "email", "telephone"
])
add_entity("Candidature", [
    "PK id_candidature",
    "revenu_mensuel", "fonction",
    "domaine_activite", "type_document",
    "type_emploi", "type_contrat", "charge_mensuelle", "dette",
    "anciennete_professionnelle", "nombre_loge_passe", "nbr_pers_aCharge", "date_naissance",
    "FK id_document", "FK id_user"
])
add_entity("Document", [
    "PK id_document",
    "bilan_comptable", "bulletin_paie", "contrat_travail",
    "facture"
])
add_entity("Locataire", [
    "PK id_user",
    "revenu_mensuel", "profession", "type_emploi",
    "date_inscription"
])
add_entity("Proprietaire", [
    "PK id_proprietaire",
    "nom", "prenom", "email", "telephone"
])
add_entity("Location", [
    "PK id_location",
    "type_location", "surface", "localisation",
    "loyer_mensuel", "FK id_proprietaire"
])
add_entity("Contrat", [
    "PK id_contrat",
    "date_debut", "date_fin", "montant_loyer",
    "FK id_user", "FK id_location"
])
add_entity("Paiement", [
    "PK id_paiement",
    "date_paiement", "montant", "statut",
    "FK id_contrat"
])

# Nouvelle entité Retard
add_entity("Retard", [
    "PK id_retard",
    "date_prevue", "date_effective",
    "jours_retard", "nouvelle_echeance",
    "FK id_paiement"
])

# Nouvelle entité Appreciation
add_entity("Appreciation", [
    "PK id_appreciation",
    "commentaire", "note", "date_appreciation",
    "FK id_proprietaire", "FK id_locataire", "FK id_location"
])

# Relations
dot.edge("User", "Locataire", label="1..1")
dot.edge("User", "Candidature", label="1..n")
dot.edge("Proprietaire", "Location", label="1..n")
dot.edge("Location", "Contrat", label="1..n")
dot.edge("Locataire", "Contrat", label="1..n")
dot.edge("Contrat", "Paiement", label="1..n")
dot.edge("Candidature", "Document", label="1..n")
dot.edge("Location", "Candidature", label="1..n")

# Nouvelles relations
dot.edge("Paiement", "Retard", label="1..n")
dot.edge("Proprietaire", "Appreciation", label="1..n")
dot.edge("Locataire", "Appreciation", label="1..n")
dot.edge("Location", "Appreciation", label="1..n")

# Afficher dans Jupyter
dot




